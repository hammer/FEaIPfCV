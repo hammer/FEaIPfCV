{
 "metadata": {
  "language": "Julia",
  "name": ""
 },
 "nbformat": 3,
 "nbformat_minor": 0,
 "worksheets": [
  {
   "cells": [
    {
     "cell_type": "code",
     "collapsed": false,
     "input": [
      "using PyPlot, Images"
     ],
     "language": "python",
     "metadata": {},
     "outputs": []
    },
    {
     "cell_type": "code",
     "collapsed": false,
     "input": [
      "pic = [1  2  3  4  1  1  2  1;\n",
      "       2  2  3  2  1  2  2  1;\n",
      "       3  1 38 39 37 36  3  1;\n",
      "       4  1 45 44 41 42  2  1;\n",
      "       1  2 43 44 40 39  1  3;\n",
      "       2  1 39 41 42 40  2  1;\n",
      "       1  2  1  2  2  3  1  1;\n",
      "       1  2  1  3  1  1  4  2]"
     ],
     "language": "python",
     "metadata": {},
     "outputs": []
    },
    {
     "cell_type": "code",
     "collapsed": false,
     "input": [
      "pic[3, 3]"
     ],
     "language": "python",
     "metadata": {},
     "outputs": []
    },
    {
     "cell_type": "code",
     "collapsed": false,
     "input": [
      "pic[4, 3]"
     ],
     "language": "python",
     "metadata": {},
     "outputs": []
    },
    {
     "cell_type": "code",
     "collapsed": false,
     "input": [
      "plot_wireframe(linspace(1, 8, 8), linspace(1, 8, 8), pic, color=\"black\")"
     ],
     "language": "python",
     "metadata": {},
     "outputs": []
    },
    {
     "cell_type": "code",
     "collapsed": false,
     "input": [
      "imshow(pic, cmap=get_cmap(\"binary\"), interpolation=\"none\")"
     ],
     "language": "python",
     "metadata": {},
     "outputs": []
    },
    {
     "cell_type": "code",
     "collapsed": false,
     "input": [
      "size(pic)"
     ],
     "language": "python",
     "metadata": {},
     "outputs": []
    },
    {
     "cell_type": "code",
     "collapsed": false,
     "input": [
      "invert(x) = maximum(x) .- x\n",
      "inverted_pic = invert(pic)"
     ],
     "language": "python",
     "metadata": {},
     "outputs": []
    },
    {
     "cell_type": "code",
     "collapsed": false,
     "input": [
      "imshow(inverted_pic, cmap=get_cmap(\"binary\"), interpolation=\"none\")"
     ],
     "language": "python",
     "metadata": {},
     "outputs": []
    },
    {
     "cell_type": "code",
     "collapsed": false,
     "input": [
      "face = imread(\"../images/rhdark.bmp\")"
     ],
     "language": "python",
     "metadata": {},
     "outputs": []
    },
    {
     "cell_type": "code",
     "collapsed": false,
     "input": [
      "inverted_face = invert(face)"
     ],
     "language": "python",
     "metadata": {},
     "outputs": []
    },
    {
     "cell_type": "code",
     "collapsed": false,
     "input": [
      "stripe_width = 3\n",
      "num_stripes = 7\n",
      "mach = hcat([fill!(cell(num_stripes * stripe_width, stripe_width), x) for x = linspace(255, 0, num_stripes)]...)\n",
      "imshow(mach, cmap=get_cmap(\"binary\"), interpolation=\"none\")"
     ],
     "language": "python",
     "metadata": {},
     "outputs": []
    }
   ],
   "metadata": {}
  }
 ]
}