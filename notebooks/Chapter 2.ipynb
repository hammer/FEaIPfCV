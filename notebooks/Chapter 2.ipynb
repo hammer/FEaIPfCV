{
 "metadata": {
  "language": "Julia",
  "name": ""
 },
 "nbformat": 3,
 "nbformat_minor": 0,
 "worksheets": [
  {
   "cells": [
    {
     "cell_type": "code",
     "collapsed": false,
     "input": [
      "using Gadfly"
     ],
     "language": "python",
     "metadata": {},
     "outputs": []
    },
    {
     "cell_type": "code",
     "collapsed": false,
     "input": [
      "T = 1\n",
      "A = 1\n",
      "p(t) = t >= -T/2 && t <= T/2 ? A : 0\n",
      "plot(p, -5, 5)"
     ],
     "language": "python",
     "metadata": {},
     "outputs": []
    },
    {
     "cell_type": "code",
     "collapsed": false,
     "input": [
      "using PyCall\n",
      "@pyimport sympy\n",
      "A = sympy.Symbol(\"A\")\n",
      "T = sympy.Symbol(\"T\")\n",
      "t = sympy.Symbol(\"t\")\n",
      "sympy.Piecewise((A, (t >= -T/2) & (t <= T/2)), (0, True)) # doesn't work yet"
     ],
     "language": "python",
     "metadata": {},
     "outputs": []
    }
   ],
   "metadata": {}
  }
 ]
}